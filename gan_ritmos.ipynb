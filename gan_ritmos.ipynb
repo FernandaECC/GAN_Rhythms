{
  "nbformat": 4,
  "nbformat_minor": 0,
  "metadata": {
    "colab": {
      "name": "gan_ritmos.ipynb",
      "provenance": [],
      "mount_file_id": "1dKEWURtaaSYBG9d4xVDHB1G94nZnXJUz",
      "authorship_tag": "ABX9TyMnU6GcMvpmJgyirsL64rJT",
      "include_colab_link": true
    },
    "kernelspec": {
      "name": "python3",
      "display_name": "Python 3"
    },
    "language_info": {
      "name": "python"
    },
    "accelerator": "GPU"
  },
  "cells": [
    {
      "cell_type": "markdown",
      "metadata": {
        "id": "view-in-github",
        "colab_type": "text"
      },
      "source": [
        "<a href=\"https://colab.research.google.com/github/FernandaECC/GAN_Rhythms/blob/main/gan_ritmos.ipynb\" target=\"_parent\"><img src=\"https://colab.research.google.com/assets/colab-badge.svg\" alt=\"Open In Colab\"/></a>"
      ]
    },
    {
      "cell_type": "code",
      "metadata": {
        "id": "YSm0MQxQnRw-"
      },
      "source": [
        "import PIL\n",
        "import os\n",
        "from glob import glob\n",
        "import matplotlib.pyplot as plt\n",
        "import seaborn as sns\n",
        "import tensorflow as tf\n",
        "from tensorflow.keras import layers\n",
        "import cv2\n",
        "import numpy as np\n",
        "\n",
        "import random\n",
        "\n",
        "MAIN_PATH = \"/content/drive/MyDrive/IC/gan/images\"\n"
      ],
      "execution_count": null,
      "outputs": []
    },
    {
      "cell_type": "code",
      "metadata": {
        "id": "Z2jmzFqCsWhx"
      },
      "source": [
        "image_paths = glob(MAIN_PATH+\"/*\")"
      ],
      "execution_count": null,
      "outputs": []
    },
    {
      "cell_type": "code",
      "metadata": {
        "colab": {
          "base_uri": "https://localhost:8080/"
        },
        "id": "hA0sshFbsYpZ",
        "outputId": "9cda3ecd-e57f-4392-8455-be210f14c819"
      },
      "source": [
        "len(image_paths)"
      ],
      "execution_count": null,
      "outputs": [
        {
          "output_type": "execute_result",
          "data": {
            "text/plain": [
              "100"
            ]
          },
          "metadata": {
            "tags": []
          },
          "execution_count": 4
        }
      ]
    },
    {
      "cell_type": "code",
      "metadata": {
        "id": "obhBAMHJsr3T"
      },
      "source": [
        "def readImage(path,image_size=(256,256)):\n",
        "    img = np.asarray(PIL.Image.open(path).resize(image_size))\n",
        "    # img - 127.5 / 127.5 ==> compress between [-1,1]\n",
        "    img = ((img - 127.5) / 127.5).astype(\"float32\")\n",
        "    return img"
      ],
      "execution_count": null,
      "outputs": []
    },
    {
      "cell_type": "code",
      "metadata": {
        "colab": {
          "base_uri": "https://localhost:8080/",
          "height": 305
        },
        "id": "VFV6LV3kss_I",
        "outputId": "575f04f6-43ac-435b-d1d0-e8f307ca1e9e"
      },
      "source": [
        "test_img = readImage(\"/content/drive/MyDrive/IC/gan/images/85.jpg\")\n",
        "print(test_img.shape)\n",
        "\n",
        "plt.imshow(test_img)\n",
        "plt.show()"
      ],
      "execution_count": null,
      "outputs": [
        {
          "output_type": "stream",
          "text": [
            "Clipping input data to the valid range for imshow with RGB data ([0..1] for floats or [0..255] for integers).\n"
          ],
          "name": "stderr"
        },
        {
          "output_type": "stream",
          "text": [
            "(256, 256, 3)\n"
          ],
          "name": "stdout"
        },
        {
          "output_type": "display_data",
          "data": {
            "image/png": "[encoded data removed]",
            "text/plain": [
              "<Figure size 432x288 with 1 Axes>"
            ]
          },
          "metadata": {
            "tags": [],
            "needs_background": "light"
          }
        }
      ]
    },
    {
      "cell_type": "code",
      "metadata": {
        "colab": {
          "base_uri": "https://localhost:8080/"
        },
        "id": "5yF295VDtE3R",
        "outputId": "be3198da-34a3-4acd-e910-c2a10b00f247"
      },
      "source": [
        "BATCH_SIZE = 64\n",
        "#STEPS_PER_EPOCH = len(image_paths) // BATCH_SIZE\n",
        "#1582 steps are too many steps. Let's just train for 500 steps.\n",
        "\n",
        "STEPS_PER_EPOCH = 500 #mudar aqui?\n",
        "print(\"Steps per epochh are\",STEPS_PER_EPOCH)\n",
        "def dataGenerator(batch_size):\n",
        "    while True:\n",
        "        paths = random.choices(image_paths,k=batch_size)\n",
        "        batch = []\n",
        "        for p in paths:\n",
        "            batch.append(readImage(p))\n",
        "        \n",
        "        yield np.asarray(batch)\n",
        "\n",
        "dataGen = dataGenerator(BATCH_SIZE)\n",
        "print(next(dataGen).shape)\n"
      ],
      "execution_count": null,
      "outputs": [
        {
          "output_type": "stream",
          "text": [
            "Steps per epochh are 500\n",
            "(64, 256, 256, 3)\n"
          ],
          "name": "stdout"
        }
      ]
    },
    {
      "cell_type": "code",
      "metadata": {
        "id": "k7hF36PptGkY"
      },
      "source": [
        "WEIGHT_INIT = tf.keras.initializers.RandomNormal(mean=0.0,stddev=0.2)\n",
        "def make_generator():\n",
        "    model = tf.keras.Sequential()\n",
        "    \n",
        "    # Random noise to 16x16x256 image\n",
        "    model.add(layers.Dense(16*16*256,use_bias=False,input_shape=(100,)))\n",
        "    model.add(layers.BatchNormalization())\n",
        "    model.add(layers.LeakyReLU())\n",
        "    model.add(layers.Reshape((16,16,256)))\n",
        "    \n",
        "    assert model.output_shape == (None,16,16,256)\n",
        "    \n",
        "    model.add(layers.Conv2DTranspose(128,(5,5),strides=(2,2),use_bias=False,padding=\"same\",kernel_initializer=WEIGHT_INIT))\n",
        "    model.add(layers.BatchNormalization())\n",
        "    model.add(layers.LeakyReLU())\n",
        "    \n",
        "    assert model.output_shape == (None,32,32,128)\n",
        "    \n",
        "    model.add(layers.Conv2DTranspose(128,(5,5),strides=(2,2),use_bias=False,padding=\"same\",kernel_initializer=WEIGHT_INIT))\n",
        "    model.add(layers.BatchNormalization())\n",
        "    model.add(layers.LeakyReLU())\n",
        "    \n",
        "    assert model.output_shape == (None,64,64,128)\n",
        "    \n",
        "    model.add(layers.Conv2DTranspose(64,(5,5),strides=(2,2),use_bias=False,padding=\"same\",kernel_initializer=WEIGHT_INIT))\n",
        "    model.add(layers.BatchNormalization())\n",
        "    model.add(layers.LeakyReLU())\n",
        "    \n",
        "    assert model.output_shape == (None,128,128,64)\n",
        "    \n",
        "    model.add(layers.Conv2DTranspose(3,(5,5),strides=(2,2),use_bias=False,padding=\"same\",kernel_initializer=WEIGHT_INIT,\n",
        "                                     activation=\"tanh\"\n",
        "                                    ))\n",
        "              # Tanh activation function compress values between -1 and 1. \n",
        "              # This is why we compressed our images between -1 and 1 in readImage function.\n",
        "    assert model.output_shape == (None,256,256,3)\n",
        "    return model"
      ],
      "execution_count": null,
      "outputs": []
    },
    {
      "cell_type": "code",
      "metadata": {
        "id": "qjmf58R-tJxQ"
      },
      "source": [
        "generator = make_generator()"
      ],
      "execution_count": null,
      "outputs": []
    },
    {
      "cell_type": "code",
      "metadata": {
        "colab": {
          "base_uri": "https://localhost:8080/"
        },
        "id": "vGF_MQaJtLKp",
        "outputId": "5fbe84fe-d729-45e2-a825-dff968daef3f"
      },
      "source": [
        "generator.summary()"
      ],
      "execution_count": null,
      "outputs": [
        {
          "output_type": "stream",
          "text": [
            "Model: \"sequential\"\n",
            "_________________________________________________________________\n",
            "Layer (type)                 Output Shape              Param #   \n",
            "=================================================================\n",
            "dense (Dense)                (None, 65536)             6553600   \n",
            "_________________________________________________________________\n",
            "batch_normalization (BatchNo (None, 65536)             262144    \n",
            "_________________________________________________________________\n",
            "leaky_re_lu (LeakyReLU)      (None, 65536)             0         \n",
            "_________________________________________________________________\n",
            "reshape (Reshape)            (None, 16, 16, 256)       0         \n",
            "_________________________________________________________________\n",
            "conv2d_transpose (Conv2DTran (None, 32, 32, 128)       819200    \n",
            "_________________________________________________________________\n",
            "batch_normalization_1 (Batch (None, 32, 32, 128)       512       \n",
            "_________________________________________________________________\n",
            "leaky_re_lu_1 (LeakyReLU)    (None, 32, 32, 128)       0         \n",
            "_________________________________________________________________\n",
            "conv2d_transpose_1 (Conv2DTr (None, 64, 64, 128)       409600    \n",
            "_________________________________________________________________\n",
            "batch_normalization_2 (Batch (None, 64, 64, 128)       512       \n",
            "_________________________________________________________________\n",
            "leaky_re_lu_2 (LeakyReLU)    (None, 64, 64, 128)       0         \n",
            "_________________________________________________________________\n",
            "conv2d_transpose_2 (Conv2DTr (None, 128, 128, 64)      204800    \n",
            "_________________________________________________________________\n",
            "batch_normalization_3 (Batch (None, 128, 128, 64)      256       \n",
            "_________________________________________________________________\n",
            "leaky_re_lu_3 (LeakyReLU)    (None, 128, 128, 64)      0         \n",
            "_________________________________________________________________\n",
            "conv2d_transpose_3 (Conv2DTr (None, 256, 256, 3)       4800      \n",
            "=================================================================\n",
            "Total params: 8,255,424\n",
            "Trainable params: 8,123,712\n",
            "Non-trainable params: 131,712\n",
            "_________________________________________________________________\n"
          ],
          "name": "stdout"
        }
      ]
    },
    {
      "cell_type": "code",
      "metadata": {
        "id": "7AhA2wPGtTwZ"
      },
      "source": [
        "# we'll use cross entropy loss\n",
        "cross_entropy = tf.keras.losses.BinaryCrossentropy(from_logits=True)\n",
        "\n",
        "def generator_loss(fake_output):\n",
        "    # First argument of loss is real labels\n",
        "    # We've labeled our images as 1 (real) because\n",
        "    # we're trying to fool discriminator\n",
        "    return cross_entropy(tf.ones_like(fake_output),fake_output)\n",
        "\n",
        "gen_optimizer = tf.keras.optimizers.Adam(lr=1e-4)"
      ],
      "execution_count": null,
      "outputs": []
    },
    {
      "cell_type": "code",
      "metadata": {
        "id": "nOf3Sc3ftU2Y"
      },
      "source": [
        "def make_discriminator():\n",
        "    model = tf.keras.Sequential()\n",
        "    \n",
        "    model.add(layers.Conv2D(64,(5,5),strides=(2,2),padding=\"same\",input_shape=(256,256,3)))\n",
        "    model.add(layers.LeakyReLU())\n",
        "    model.add(layers.Dropout(0.3))\n",
        "    \n",
        "    model.add(layers.Conv2D(128,(5,5),strides=(2,2),padding=\"same\"))\n",
        "    model.add(layers.LeakyReLU())\n",
        "    model.add(layers.Dropout(0.3))\n",
        "    \n",
        "    model.add(layers.Conv2D(265,(5,5),strides=(2,2),padding=\"same\"))\n",
        "    model.add(layers.LeakyReLU())\n",
        "    model.add(layers.Dropout(0.3))\n",
        "    \n",
        "    model.add(layers.Flatten())\n",
        "    model.add(layers.Dense(1))\n",
        "    \n",
        "    return model"
      ],
      "execution_count": null,
      "outputs": []
    },
    {
      "cell_type": "code",
      "metadata": {
        "id": "URrRJl26tY1J"
      },
      "source": [
        "discriminator = make_discriminator()"
      ],
      "execution_count": null,
      "outputs": []
    },
    {
      "cell_type": "code",
      "metadata": {
        "id": "3kygSuzCtagg"
      },
      "source": [
        "def discriminator_loss(real_images,fake_images):\n",
        "    real_loss = cross_entropy(tf.ones_like(real_images),real_images)\n",
        "    fake_loss = cross_entropy(tf.zeros_like(fake_images),fake_images)\n",
        "    total_loss = real_loss + fake_loss\n",
        "    return total_loss"
      ],
      "execution_count": null,
      "outputs": []
    },
    {
      "cell_type": "code",
      "metadata": {
        "id": "OpoBQuw6tdOw"
      },
      "source": [
        "discriminator_optimizer = tf.keras.optimizers.Adam(lr=1e-4)"
      ],
      "execution_count": null,
      "outputs": []
    },
    {
      "cell_type": "code",
      "metadata": {
        "id": "8qh3-W0ztf05"
      },
      "source": [
        "EPOCHS = 10\n",
        "NOISE_DIM = 100\n",
        "\n",
        "@tf.function\n",
        "def train_step(images):\n",
        "    # We've created random seeds\n",
        "    noise = tf.random.normal([BATCH_SIZE,NOISE_DIM])\n",
        "    \n",
        "    with tf.GradientTape() as gen_tape, tf.GradientTape() as disc_tape:\n",
        "        # Generator generated images\n",
        "        generated_images = generator(noise,training=True)\n",
        "        \n",
        "        # We've sent our real and fake images to the discriminator\n",
        "        # and taken the decisions of it.\n",
        "        real_output = discriminator(images,training=True)\n",
        "        fake_output = discriminator(generated_images,training=True)\n",
        "        \n",
        "        # We've computed losses of generator and discriminator\n",
        "        gen_loss = generator_loss(fake_output)\n",
        "        disc_loss = discriminator_loss(real_output,fake_output)\n",
        "    \n",
        "    # We've computed gradients of networks and updated variables using those gradients.\n",
        "    gradients_of_generator = gen_tape.gradient(gen_loss,generator.trainable_variables)\n",
        "    gradients_of_discriminator = disc_tape.gradient(disc_loss,discriminator.trainable_variables)\n",
        "    \n",
        "    gen_optimizer.apply_gradients(zip(gradients_of_generator,generator.trainable_variables))\n",
        "    discriminator_optimizer.apply_gradients(zip(gradients_of_discriminator,discriminator.trainable_variables))"
      ],
      "execution_count": null,
      "outputs": []
    },
    {
      "cell_type": "code",
      "metadata": {
        "id": "bs7XqQqptjGR"
      },
      "source": [
        "import time\n",
        "import sys\n",
        "def train(epochs):\n",
        "    for epoch in range(epochs):\n",
        "        start = time.time()\n",
        "        for step in range(STEPS_PER_EPOCH):\n",
        "            train_step(next(dataGen))\n",
        "    \n",
        "            sys.stdout.write(f\"\\rSTEP: {step}/{STEPS_PER_EPOCH}\")\n",
        "            sys.stdout.flush()\n",
        "            \n",
        "        finish_time = round(time.time() - start,2)\n",
        "        print(f\"Epoch {epoch}/{epochs} Process Time : {finish_time}\")\n",
        "        print(\"-\"*15)"
      ],
      "execution_count": null,
      "outputs": []
    },
    {
      "cell_type": "code",
      "metadata": {
        "colab": {
          "base_uri": "https://localhost:8080/"
        },
        "id": "zZMaGNLZtmUq",
        "outputId": "a7835ce6-6710-42c4-f137-1fe392504b1b"
      },
      "source": [
        "train(EPOCHS)"
      ],
      "execution_count": null,
      "outputs": [
        {
          "output_type": "stream",
          "text": [
            "STEP: 294/500"
          ],
          "name": "stdout"
        }
      ]
    },
    {
      "cell_type": "code",
      "metadata": {
        "id": "T6Ud8UrdttbZ"
      },
      "source": [
        "#train(3)"
      ],
      "execution_count": null,
      "outputs": []
    },
    {
      "cell_type": "code",
      "metadata": {
        "id": "iAfcQHIXtt7x"
      },
      "source": [
        "noise = tf.random.normal([25,100])\n",
        "generated_images = np.asarray(generator(noise,training=False))\n",
        "\n",
        "fig = plt.figure(figsize=(15,20))\n",
        "for i in range(25):\n",
        "    plt.subplot(5,5,i+1)\n",
        "    plt.imshow((generated_images[i,:,:,:]*127.5+127.5).astype(\"int\"))\n",
        "    plt.axis(\"off\")\n",
        "    \n",
        "plt.show()"
      ],
      "execution_count": null,
      "outputs": []
    },
    {
      "cell_type": "markdown",
      "metadata": {
        "id": "4ZcNjcn55ZIl"
      },
      "source": [
        "https://www.kaggle.com/shyambhu/introduction-to-face-generation-using-dcgan/comments"
      ]
    }
  ]
}